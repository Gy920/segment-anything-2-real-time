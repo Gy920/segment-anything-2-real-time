{
 "cells": [
  {
   "cell_type": "code",
   "execution_count": null,
   "id": "3c3b1c46-9f5c-41c1-9101-85db8709ec0d",
   "metadata": {},
   "outputs": [],
   "source": [
    "# Copyright (c) Meta Platforms, Inc. and affiliates."
   ]
  },
  {
   "cell_type": "markdown",
   "id": "6e7a0db5-7f04-4845-8b11-684fe6e9f7f2",
   "metadata": {},
   "source": [
    "# Run Segment Anything Model 2 on a live video stream\n"
   ]
  },
  {
   "cell_type": "code",
   "execution_count": null,
   "id": "e5318a85-5bf7-4880-b2b3-15e4db24d796",
   "metadata": {},
   "outputs": [],
   "source": [
    "import os\n",
    "import torch\n",
    "import numpy as np\n",
    "import matplotlib.pyplot as plt\n",
    "from PIL import Image\n",
    "import cv2\n",
    "from IPython import display"
   ]
  },
  {
   "cell_type": "code",
   "execution_count": null,
   "id": "08ba49d8-8c22-4eba-a2ab-46eee839287f",
   "metadata": {},
   "outputs": [],
   "source": [
    "# use bfloat16 for the entire notebook\n",
    "torch.autocast(device_type=\"cuda\", dtype=torch.bfloat16).__enter__()\n",
    "\n",
    "if torch.cuda.get_device_properties(0).major >= 8:\n",
    "    # turn on tfloat32 for Ampere GPUs (https://pytorch.org/docs/stable/notes/cuda.html#tensorfloat-32-tf32-on-ampere-devices)\n",
    "    torch.backends.cuda.matmul.allow_tf32 = True\n",
    "    torch.backends.cudnn.allow_tf32 = True"
   ]
  },
  {
   "cell_type": "markdown",
   "id": "ae8e0779-751f-4224-9b04-ed0f0b406500",
   "metadata": {},
   "source": [
    "### Loading the SAM 2 camera predictor\n"
   ]
  },
  {
   "cell_type": "code",
   "execution_count": null,
   "id": "f5f3245e-b4d6-418b-a42a-a67e0b3b5aec",
   "metadata": {},
   "outputs": [],
   "source": [
    "from sam2.build_sam import build_sam2_camera_predictor\n",
    "\n",
    "sam2_checkpoint = \"../checkpoints/sam2.1_hiera_small.pt\"\n",
    "model_cfg = \"configs/sam2.1/sam2.1_hiera_s.yaml\"\n",
    "\n",
    "predictor = build_sam2_camera_predictor(model_cfg, sam2_checkpoint)"
   ]
  },
  {
   "cell_type": "code",
   "execution_count": null,
   "id": "c64f966e",
   "metadata": {},
   "outputs": [],
   "source": [
    "def show_mask(mask, ax, obj_id=None, random_color=False):\n",
    "    if random_color:\n",
    "        color = np.concatenate([np.random.random(3), np.array([0.6])], axis=0)\n",
    "    else:\n",
    "        cmap = plt.get_cmap(\"tab10\")\n",
    "        cmap_idx = 0 if obj_id is None else obj_id\n",
    "        color = np.array([*cmap(cmap_idx)[:3], 0.6])\n",
    "    h, w = mask.shape[-2:]\n",
    "    mask_image = mask.reshape(h, w, 1) * color.reshape(1, 1, -1)\n",
    "    ax.imshow(mask_image)\n",
    "\n",
    "\n",
    "def show_points(coords, labels, ax, marker_size=200):\n",
    "    pos_points = coords[labels == 1]\n",
    "    neg_points = coords[labels == 0]\n",
    "    ax.scatter(\n",
    "        pos_points[:, 0],\n",
    "        pos_points[:, 1],\n",
    "        color=\"green\",\n",
    "        marker=\"*\",\n",
    "        s=marker_size,\n",
    "        edgecolor=\"white\",\n",
    "        linewidth=1.25,\n",
    "    )\n",
    "    ax.scatter(\n",
    "        neg_points[:, 0],\n",
    "        neg_points[:, 1],\n",
    "        color=\"red\",\n",
    "        marker=\"*\",\n",
    "        s=marker_size,\n",
    "        edgecolor=\"white\",\n",
    "        linewidth=1.25,\n",
    "    )\n",
    "\n",
    "\n",
    "def show_bbox(bbox, ax, marker_size=200):\n",
    "    tl, br = bbox[0], bbox[1]\n",
    "    w, h = (br - tl)[0], (br - tl)[1]\n",
    "    x, y = tl[0], tl[1]\n",
    "    print(x, y, w, h)\n",
    "    ax.add_patch(plt.Rectangle((x, y), w, h, fill=None, edgecolor=\"blue\", linewidth=2))"
   ]
  },
  {
   "cell_type": "markdown",
   "id": "f22aa751-b7cd-451e-9ded-fb98bf4bdfad",
   "metadata": {},
   "source": [
    "#### Select an video stream (video or camera)\n"
   ]
  },
  {
   "cell_type": "code",
   "execution_count": null,
   "id": "b94c87ca-fd1a-4011-9609-e8be1cbe3230",
   "metadata": {},
   "outputs": [],
   "source": [
    "cap = cv2.VideoCapture(\"videos/aquarium/aquarium.mp4\")\n",
    "ret, frame = cap.read()\n",
    "width, height = frame.shape[:2][::-1]"
   ]
  },
  {
   "cell_type": "markdown",
   "id": "f4a30cba",
   "metadata": {},
   "source": [
    "#### Step 1: Add a first click on the first frame\n"
   ]
  },
  {
   "cell_type": "code",
   "execution_count": null,
   "id": "4b297a21",
   "metadata": {},
   "outputs": [],
   "source": [
    "predictor.load_first_frame(frame)\n",
    "if_init = True\n",
    "\n",
    "using_point = False # if True, we use point prompt\n",
    "using_box = True # if True, we use point prompt\n",
    "using_mask= False  # if True, we use mask prompt\n",
    "\n",
    "ann_frame_idx = 0  # the frame index we interact with\n",
    "ann_obj_id = (\n",
    "    1  # give a unique id to each object we interact with (it can be any integers)\n",
    ")\n",
    "# Let's add a positive click at (x, y) = (210, 350) to get started\n",
    "\n",
    "# using point prompt\n",
    "points = np.array([[670, 247]], dtype=np.float32)\n",
    "# for labels, `1` means positive click and `0` means negative click\n",
    "labels = np.array([1], dtype=np.int32)\n",
    "bbox = np.array([[600, 214], [765, 286]], dtype=np.float32)\n",
    "\n",
    "frame = cv2.cvtColor(frame, cv2.COLOR_BGR2RGB)\n",
    "plt.figure(figsize=(12, 8))\n",
    "plt.title(f\"frame {ann_frame_idx}\")\n",
    "plt.imshow(frame)\n",
    "\n",
    "\n",
    "if using_point:\n",
    "    _, out_obj_ids, out_mask_logits = predictor.add_new_prompt(\n",
    "        frame_idx=ann_frame_idx,\n",
    "        obj_id=ann_obj_id,\n",
    "        points=points,\n",
    "        labels=labels,\n",
    "    )\n",
    "    show_points(points, labels, plt.gca())\n",
    "\n",
    "elif using_box:\n",
    "    _, out_obj_ids, out_mask_logits = predictor.add_new_prompt(\n",
    "        frame_idx=ann_frame_idx, obj_id=ann_obj_id, bbox=bbox\n",
    "    )\n",
    "    show_bbox(bbox, plt.gca())\n",
    "\n",
    "elif using_mask:\n",
    "    mask_img_path=\"masks/aquarium/aquarium_mask.png\"\n",
    "    mask = cv2.imread(mask_img_path, cv2.IMREAD_GRAYSCALE)\n",
    "    mask = mask / 255\n",
    "\n",
    "    _, out_obj_ids, out_mask_logits = predictor.add_new_mask(\n",
    "        frame_idx=ann_frame_idx, obj_id=ann_obj_id, mask=mask\n",
    "    )\n",
    "    \n",
    "\n",
    "\n",
    "show_mask((out_mask_logits[0] > 0.0).cpu().numpy(), plt.gca(), obj_id=out_obj_ids[0])"
   ]
  },
  {
   "cell_type": "markdown",
   "id": "26aeb04d-8cba-4f57-95da-6e5a1796003e",
   "metadata": {},
   "source": [
    "#### Step 2: track\n"
   ]
  },
  {
   "cell_type": "code",
   "execution_count": null,
   "id": "3e749bab-0f36-4173-bf8d-0c20cd5214b3",
   "metadata": {},
   "outputs": [],
   "source": [
    "vis_gap = 30\n",
    "\n",
    "while True:\n",
    "\n",
    "    ret, frame = cap.read()\n",
    "    ann_frame_idx += 1\n",
    "    if not ret:\n",
    "        break\n",
    "    width, height = frame.shape[:2][::-1]\n",
    "\n",
    "    out_obj_ids, out_mask_logits = predictor.track(frame)\n",
    "\n",
    "    if ann_frame_idx % vis_gap == 0:\n",
    "        print(f\"frame {ann_frame_idx}\")\n",
    "        frame = cv2.cvtColor(frame, cv2.COLOR_BGR2RGB)\n",
    "        display.clear_output(wait=True)\n",
    "        plt.figure(figsize=(12, 8))\n",
    "        plt.title(f\"frame {ann_frame_idx}\")\n",
    "        plt.imshow(frame)\n",
    "        show_mask(\n",
    "            (out_mask_logits[0] > 0.0).cpu().numpy(), plt.gca(), obj_id=out_obj_ids[0]\n",
    "        )\n",
    "\n",
    "cap.release()"
   ]
  }
 ],
 "metadata": {
  "kernelspec": {
   "display_name": "Python 3 (ipykernel)",
   "language": "python",
   "name": "python3"
  },
  "language_info": {
   "codemirror_mode": {
    "name": "ipython",
    "version": 3
   },
   "file_extension": ".py",
   "mimetype": "text/x-python",
   "name": "python",
   "nbconvert_exporter": "python",
   "pygments_lexer": "ipython3",
   "version": "3.8.16"
  }
 },
 "nbformat": 4,
 "nbformat_minor": 5
}
